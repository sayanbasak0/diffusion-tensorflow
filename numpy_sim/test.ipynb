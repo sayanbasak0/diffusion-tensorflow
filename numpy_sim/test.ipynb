{
 "cells": [
  {
   "cell_type": "markdown",
   "source": [
    "# Testing"
   ],
   "metadata": {}
  },
  {
   "cell_type": "code",
   "execution_count": 1,
   "source": [
    "## embedded interactive plot (jupyter notebook)\r\n",
    "# %matplotlib notebook\r\n",
    "## embedded interactive plot (jupyter notebook)\r\n",
    "## spawn a separate window (jupyter lab)\r\n",
    "%matplotlib qt\r\n",
    "## spawn a separate window (jupyter lab)\r\n",
    "## src.diffusion is dependent on the path\r\n",
    "import src.diffusion as dfsn\r\n",
    "## src.diffusion is dependent on the path\r\n",
    "import numpy as np\r\n",
    "from importlib import reload"
   ],
   "outputs": [],
   "metadata": {}
  },
  {
   "cell_type": "code",
   "execution_count": 2,
   "source": [
    "reload(dfsn)\r\n",
    "temperature = dfsn.Simulator(n=(10,10), bc='open')\r\n",
    "f_start = 0\r\n",
    "f_at_boundary = [0, 0, 0, np.linspace(0,1,10)]\r\n",
    "temperature.initialize(f=f_start, f_at_b=f_at_boundary, D=1, B=0)\r\n",
    "temperature.evolve(Dt=100, dt=0.01)"
   ],
   "outputs": [
    {
     "output_type": "stream",
     "name": "stdout",
     "text": [
      "Simulating (ddt=0.010000) : t=0.000000-->100.000000 - Evolved!\n"
     ]
    }
   ],
   "metadata": {}
  },
  {
   "cell_type": "code",
   "execution_count": 155,
   "source": [
    "reload(dfsn)\r\n",
    "temperature = dfsn.Simulator(n=(1,1,1), bc=1)\r\n",
    "temperature.set_f_with_b(f_with_b=np.linspace(0,1,27).reshape(3,3,3))\r\n",
    "temperature.initialize(D=1, B=0)\r\n",
    "temperature.evolve(Dt=100, dt=0.01)\r\n",
    "# temperature.steadyState(precision=0.01)\r\n",
    "# print(eqn.f)"
   ],
   "outputs": [
    {
     "output_type": "stream",
     "name": "stdout",
     "text": [
      "Simulating (ddt=0.010000) : t=0.000000-->100.000000 - Evolved!\n"
     ]
    }
   ],
   "metadata": {}
  },
  {
   "cell_type": "code",
   "execution_count": 148,
   "source": [
    "reload(dfsn)\r\n",
    "rho = dfsn.Simulator(n=(100,),bc=0)\r\n",
    "rho.initialize(f=np.concatenate([np.zeros(50),np.ones(50)]), D=1, B=0)\r\n",
    "rho.evolve(Dt=10,dt=0.1)\r\n",
    "# rho.steadyState(precision=0.0001)\r\n",
    "# print(rho.f)"
   ],
   "outputs": [
    {
     "output_type": "stream",
     "name": "stdout",
     "text": [
      "Simulating (ddt=0.100000) : t=0.000000-->10.000000 - Evolved!\n"
     ]
    }
   ],
   "metadata": {}
  },
  {
   "cell_type": "markdown",
   "source": [
    "## Save Checkpoint"
   ],
   "metadata": {}
  },
  {
   "cell_type": "code",
   "execution_count": 149,
   "source": [
    "rho.save_checkpoint(filename=\"data/temp_chkpt\")\r\n",
    "# filename: with path without extension\r\n",
    "  # 2 files generated filename+\".json\" and filename+\".npy\""
   ],
   "outputs": [
    {
     "output_type": "stream",
     "name": "stdout",
     "text": [
      "Saved to: data/temp_chkpt.json & data/temp_chkpt.npy\n"
     ]
    }
   ],
   "metadata": {}
  },
  {
   "cell_type": "markdown",
   "source": [
    "## Load checkpoint"
   ],
   "metadata": {}
  },
  {
   "cell_type": "code",
   "execution_count": 151,
   "source": [
    "reload(dfsn)\r\n",
    "rhock = dfsn.Simulator()\r\n",
    "rhock.load_checkpoint(\"data/temp_chkpt\")\r\n",
    "# filename: with path without extension\r\n",
    "  # Look for 2 files - filename+\".json\" and filename+\".npy\""
   ],
   "outputs": [
    {
     "output_type": "stream",
     "name": "stdout",
     "text": [
      "Loaded: data/temp_chkpt.json & data/temp_chkpt.npy\n"
     ]
    }
   ],
   "metadata": {}
  },
  {
   "cell_type": "markdown",
   "source": [
    "## Check"
   ],
   "metadata": {}
  },
  {
   "cell_type": "code",
   "execution_count": 21,
   "source": [
    "rhockdata = vars(rhock)\r\n",
    "rhodata = vars(rho)\r\n",
    "for key in rhockdata.keys():\r\n",
    "    if np.all(rhockdata[key]==rhodata[key]):\r\n",
    "        print(f\"{key}: OK\")\r\n",
    "    else:\r\n",
    "        print(f\"{key}: Nope\")\r\n"
   ],
   "outputs": [
    {
     "output_type": "stream",
     "name": "stdout",
     "text": [
      "dL: OK\n",
      "n: OK\n",
      "t: OK\n",
      "boundary_condition: OK\n",
      "bc: OK\n",
      "exBC: OK\n",
      "nBC: OK\n",
      "n_i: OK\n",
      "bound: OK\n",
      "gbound: OK\n",
      "bbound: OK\n",
      "cbound: OK\n",
      "f: OK\n",
      "fgrad: Nope\n",
      "D: OK\n",
      "Davg: OK\n",
      "B: OK\n",
      "Bavg: OK\n"
     ]
    }
   ],
   "metadata": {}
  },
  {
   "cell_type": "markdown",
   "source": [
    "# 1D diffusion"
   ],
   "metadata": {}
  },
  {
   "cell_type": "markdown",
   "source": [
    "## Steady State solution"
   ],
   "metadata": {}
  },
  {
   "cell_type": "code",
   "execution_count": 17,
   "source": [
    "reload(dfsn)\r\n",
    "rho = dfsn.Simulator(n=(100,), bc=0)\r\n",
    "f_start = np.concatenate([np.zeros(50),np.ones(50)])\r\n",
    "rho.initialize(f=f_start, D=1, B=0)\r\n",
    "with dfsn.Animator(simObj=rho, savefile=\"data/rhoSS1D.gif\") as plotter:\r\n",
    "    plotter.start_animation(simulate=\"steadyState\", kwargs={'precision':0.001,'plot_dt_steps':10})"
   ],
   "outputs": [
    {
     "output_type": "stream",
     "name": "stdout",
     "text": [
      "Simulating (ddt=0.250000) : t=0.000000-->1517.500000 - Steady State reached!\n",
      "Animation saved to: data/tempSS1D.gif\n"
     ]
    }
   ],
   "metadata": {}
  },
  {
   "cell_type": "markdown",
   "source": [
    "## Evolve for finite time"
   ],
   "metadata": {}
  },
  {
   "cell_type": "code",
   "execution_count": 18,
   "source": [
    "reload(dfsn)\r\n",
    "rho = dfsn.Simulator(n=(100,), bc=0)\r\n",
    "f_start = np.concatenate([np.zeros(50),np.ones(50)])\r\n",
    "rho.initialize(f=f_start, D=1, B=0)\r\n",
    "with dfsn.Animator(simObj=rho, savefile=\"data/rhoEvo1D.gif\") as plotter:\r\n",
    "    plotter.start_animation(simulate=\"evolve\", display=False, kwargs={'Dt':100,'dt':0.01})\r\n",
    "    plotter.start_animation(simulate=\"evolve\", display=True, kwargs={'Dt':100,'dt':0.01})\r\n",
    "    plotter.start_animation(simulate=\"evolve\", display=False, kwargs={'Dt':100,'dt':0.01})\r\n",
    "    plotter.start_animation(simulate=\"evolve\", display=True, kwargs={'Dt':100,'dt':0.01})"
   ],
   "outputs": [
    {
     "output_type": "stream",
     "name": "stdout",
     "text": [
      "Simulating (ddt=0.010000) : t=0.000000-->100.000000 - Evolved!\n",
      "Simulating (ddt=0.010000) : t=100.000000-->200.000000 - Evolved!\n",
      "Simulating (ddt=0.010000) : t=200.000000-->300.000000 - Evolved!\n",
      "Simulating (ddt=0.010000) : t=300.000000-->400.000000 - Evolved!\n",
      "Animation saved to: data/tempEvo1D.gif\n"
     ]
    }
   ],
   "metadata": {}
  },
  {
   "cell_type": "markdown",
   "source": [
    "# 2D diffusion"
   ],
   "metadata": {}
  },
  {
   "cell_type": "markdown",
   "source": [
    "## Steady State solution"
   ],
   "metadata": {}
  },
  {
   "cell_type": "code",
   "execution_count": 19,
   "source": [
    "reload(dfsn)\r\n",
    "rho = dfsn.Simulator(n=(12,8),bc=0)\r\n",
    "xx,yy = np.meshgrid(np.linspace(-2,2,8),np.linspace(-2,2,12))\r\n",
    "f_start = np.exp(-(xx**2+yy**2)/2)\r\n",
    "rho.initialize(f=f_start, D=1, B=0)\r\n",
    "# simObj must be an object of Simulator Class\r\n",
    "with dfsn.Animator(simObj=rho, savefile=\"data/rhoSS2D.gif\") as plotter:\r\n",
    "    plotter.start_animation(\"steadyState\", kwargs={'plot_dt_steps':1})\r\n"
   ],
   "outputs": [
    {
     "output_type": "stream",
     "name": "stdout",
     "text": [
      "Simulating (ddt=0.125000) : t=0.000000-->9.250000 - Steady State reached!\n",
      "Animation saved to: data/tempSS2D.gif\n"
     ]
    }
   ],
   "metadata": {}
  },
  {
   "cell_type": "markdown",
   "source": [
    "## Evolve for finite time"
   ],
   "metadata": {}
  },
  {
   "cell_type": "code",
   "execution_count": 20,
   "source": [
    "reload(dfsn)\r\n",
    "rho = dfsn.Simulator(n=(12,8),bc=0)\r\n",
    "xx,yy = np.meshgrid(np.linspace(-2,2,8),np.linspace(-2,2,12))\r\n",
    "f_start = np.exp(-(xx**2+yy**2)/2)\r\n",
    "rho.initialize(f=f_start, D=1, B=0)\r\n",
    "with dfsn.Animator(simObj=rho, savefile=\"data/tempEvo2D.gif\") as plotter:\r\n",
    "    plotter.start_animation(simulate=\"evolve\", kwargs={'Dt':2,'dt':0.0001})"
   ],
   "outputs": [
    {
     "output_type": "stream",
     "name": "stdout",
     "text": [
      "Simulating (ddt=0.000100) : t=0.000000-->2.000000 - Evolved!\n",
      "Animation saved to: data/tempEvo2D.gif\n"
     ]
    }
   ],
   "metadata": {}
  },
  {
   "cell_type": "markdown",
   "source": [
    "# 3D diffusion"
   ],
   "metadata": {}
  },
  {
   "cell_type": "markdown",
   "source": [
    "## Steady State solution"
   ],
   "metadata": {}
  },
  {
   "cell_type": "code",
   "execution_count": 21,
   "source": [
    "reload(dfsn)\r\n",
    "n = (5,5,5)\r\n",
    "rho = dfsn.Simulator(n=n,bc=0)\r\n",
    "xx,yy,zz = np.meshgrid(np.linspace(-2,2,n[0]),np.linspace(-2,2,n[1]),np.linspace(-2,2,n[2]))\r\n",
    "f_start = np.exp(-(xx**2+yy**2+zz**2)/2)\r\n",
    "rho.initialize(f=f_start, D=1, B=0)\r\n",
    "with dfsn.Animator(simObj=rho, savefile=\"data/rhoSS3D.gif\") as plotter:\r\n",
    "    plotter.start_animation(simulate=\"steadyState\", kwargs={'precision':0.0001,'plot_dt_steps':1})"
   ],
   "outputs": [
    {
     "output_type": "stream",
     "name": "stdout",
     "text": [
      "Simulating (ddt=0.083333) : t=0.000000-->2.250000 - Steady State reached!\n",
      "Animation saved to: tempSS3D.gif\n"
     ]
    }
   ],
   "metadata": {}
  },
  {
   "cell_type": "markdown",
   "source": [
    "## Evolve for finite time"
   ],
   "metadata": {}
  },
  {
   "cell_type": "code",
   "execution_count": 22,
   "source": [
    "reload(dfsn)\r\n",
    "n = (5,5,5)\r\n",
    "rho = dfsn.Simulator(n=n,bc=0)\r\n",
    "xx,yy,zz = np.meshgrid(np.linspace(-2,2,n[0]),np.linspace(-2,2,n[1]),np.linspace(-2,2,n[2]))\r\n",
    "f_start = np.exp(-(xx**2+yy**2+zz**2)/2)\r\n",
    "rho.initialize(f=f_start, D=1, B=0)\r\n",
    "with dfsn.Animator(simObj=rho, savefile=\"data/rhiEvo3D.gif\") as plotter:\r\n",
    "    plotter.start_animation(simulate=\"evolve\", kwargs={'Dt':1,'dt':0.0001})"
   ],
   "outputs": [
    {
     "output_type": "stream",
     "name": "stdout",
     "text": [
      "Simulating (ddt=0.000100) : t=0.000000-->1.000000 - Evolved!\n",
      "Animation saved to: data/tempEvo3D.gif\n"
     ]
    }
   ],
   "metadata": {}
  },
  {
   "cell_type": "code",
   "execution_count": null,
   "source": [],
   "outputs": [],
   "metadata": {}
  }
 ],
 "metadata": {
  "interpreter": {
   "hash": "7b4b4feff2f24a0f0a34464dbe537a36fda679851528fb8735cb41fa49dffb2d"
  },
  "kernelspec": {
   "display_name": "Python 3.7.10 64-bit ('base': conda)",
   "name": "python3"
  },
  "language_info": {
   "codemirror_mode": {
    "name": "ipython",
    "version": 3
   },
   "file_extension": ".py",
   "mimetype": "text/x-python",
   "name": "python",
   "nbconvert_exporter": "python",
   "pygments_lexer": "ipython3",
   "version": "3.7.10"
  },
  "orig_nbformat": 4
 },
 "nbformat": 4,
 "nbformat_minor": 2
}