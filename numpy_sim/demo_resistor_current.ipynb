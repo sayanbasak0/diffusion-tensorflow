{
 "cells": [
  {
   "cell_type": "markdown",
   "metadata": {},
   "source": [
    "# Using the diffusion equation to calculate equivalent resistance\n",
    "## Ohm's law:\n",
    "$$ \\vec{J} = \\sigma \\vec{E} $$\n",
    "$$ \\vec{E} = \\nabla V $$\n",
    "$\\vec{J}$ : Electric current density\n",
    "\n",
    "$\\vec{E}$ : Electric field\n",
    "\n",
    "$V$ : Electric potential\n",
    "\n",
    "## Steady State \n",
    "The continuity equation without source/sink:\n",
    "$$ \\nabla \\cdot \\vec{J} = 0 $$\n",
    "This is the differential version of the Kirchoff's law.\n",
    "\n",
    "Combining the above two condition:\n",
    "$$ \\nabla ( \\sigma \\nabla V ) = 0 $$\n",
    "\n",
    "With an assumption that $ V \\propto \\rho $, \n",
    "the diffusion equation can be used to solve for the steady state numerically.\n",
    "\n",
    "## Boundary Condition\n",
    "* up-down : closed boundary\n",
    "  * No current in or out through these boundaries\n",
    "* left-right : open boundary\n",
    "  * the voltages at the left and right boundary is set to 0 and 1\n",
    "    * $ V_{left} = 0 $\n",
    "    * $ V_{right} = 1 $\n",
    "  * Current at boundaries : \n",
    "    * $ I_{left} = \\sum_{i=left} \\delta V_i/R_i $\n",
    "    * $ I_{right} = \\sum_{i=right} \\delta V_i/R_i $\n",
    "    * $ I_{left} = I_{right} $\n",
    "* Equivalent Resistance = $ \\frac{V_{right}-V_{left}}{(I_{left}+I_{right})/2} $"
   ]
  },
  {
   "cell_type": "markdown",
   "metadata": {},
   "source": [
    "---\n",
    "## Setup matplotlib backend"
   ]
  },
  {
   "cell_type": "code",
   "execution_count": 1,
   "metadata": {},
   "outputs": [],
   "source": [
    "## embedded interactive plot (e.g.: jupyter notebook)\n",
    "# %matplotlib notebook\n",
    "## embedded interactive plot (e.g.: jupyter notebook)\n",
    "## spawn a separate window (e.g.: jupyter lab)\n",
    "%matplotlib qt\n",
    "## spawn a separate window (e.g.: jupyter lab)"
   ]
  },
  {
   "cell_type": "markdown",
   "metadata": {},
   "source": [
    "---\n",
    "## Import everything required"
   ]
  },
  {
   "cell_type": "code",
   "execution_count": 2,
   "metadata": {},
   "outputs": [],
   "source": [
    "## src.diffusion is dependent on the path\n",
    "import src.diffusion as dfsn\n",
    "## src.diffusion is dependent on the path\n",
    "## src.current is dependent on the path\n",
    "import src.current as curr\n",
    "## src.current is dependent on the path\n",
    "import numpy as np"
   ]
  },
  {
   "cell_type": "markdown",
   "metadata": {},
   "source": [
    "---\n",
    "## Diffusion for Voltages\n",
    "Simulates the electric potential with:\n",
    "* constant boundary voltages in one direction\n",
    "* and open boundary everywhere else."
   ]
  },
  {
   "cell_type": "code",
   "execution_count": 3,
   "metadata": {},
   "outputs": [
    {
     "data": {
      "text/plain": [
       "[[1, 1], [0, 0]]"
      ]
     },
     "execution_count": 3,
     "metadata": {},
     "output_type": "execute_result"
    }
   ],
   "source": [
    "potential = curr.Resistor(n=(10,10), bc=['open','closed'])\n",
    "potential.bc"
   ]
  },
  {
   "cell_type": "code",
   "execution_count": 4,
   "metadata": {},
   "outputs": [],
   "source": [
    "f_start = 0\n",
    "f_at_boundary = [0, 1, 0, 0]\n",
    "Resistances = np.ones(100).reshape(10,10)+0.0\n",
    "# Resistances = np.ones((10,10))"
   ]
  },
  {
   "cell_type": "code",
   "execution_count": 5,
   "metadata": {},
   "outputs": [
    {
     "data": {
      "text/plain": [
       "array([[0., 0., 0., 0., 0., 0., 0., 0., 0., 0., 0., 0.],\n",
       "       [0., 0., 0., 0., 0., 0., 0., 0., 0., 0., 0., 1.],\n",
       "       [0., 0., 0., 0., 0., 0., 0., 0., 0., 0., 0., 1.],\n",
       "       [0., 0., 0., 0., 0., 0., 0., 0., 0., 0., 0., 1.],\n",
       "       [0., 0., 0., 0., 0., 0., 0., 0., 0., 0., 0., 1.],\n",
       "       [0., 0., 0., 0., 0., 0., 0., 0., 0., 0., 0., 1.],\n",
       "       [0., 0., 0., 0., 0., 0., 0., 0., 0., 0., 0., 1.],\n",
       "       [0., 0., 0., 0., 0., 0., 0., 0., 0., 0., 0., 1.],\n",
       "       [0., 0., 0., 0., 0., 0., 0., 0., 0., 0., 0., 1.],\n",
       "       [0., 0., 0., 0., 0., 0., 0., 0., 0., 0., 0., 1.],\n",
       "       [0., 0., 0., 0., 0., 0., 0., 0., 0., 0., 0., 1.],\n",
       "       [0., 0., 0., 0., 0., 0., 0., 0., 0., 0., 0., 0.]])"
      ]
     },
     "execution_count": 5,
     "metadata": {},
     "output_type": "execute_result"
    }
   ],
   "source": [
    "potential.initialize(f=f_start, f_at_b=f_at_boundary, R=Resistances)\n",
    "potential.f.T"
   ]
  },
  {
   "cell_type": "code",
   "execution_count": 7,
   "metadata": {},
   "outputs": [
    {
     "name": "stdout",
     "output_type": "stream",
     "text": [
      "Simulating (ddt=0.125000): t=0.000000-->402.875000 - Steady State reached!\n"
     ]
    }
   ],
   "source": [
    "potential.steadyState(precision=0.00000000001)"
   ]
  },
  {
   "cell_type": "code",
   "execution_count": 8,
   "metadata": {},
   "outputs": [
    {
     "data": {
      "text/plain": [
       "(array([0.05, 0.05, 0.05, 0.05, 0.05, 0.05, 0.05, 0.05, 0.05, 0.05]),\n",
       " array([0.05, 0.05, 0.05, 0.05, 0.05, 0.05, 0.05, 0.05, 0.05, 0.05]))"
      ]
     },
     "execution_count": 8,
     "metadata": {},
     "output_type": "execute_result"
    }
   ],
   "source": [
    "(potential.f[1:]-potential.f[:-1])[0,1:-1],(potential.f[1:]-potential.f[:-1])[-1,1:-1]"
   ]
  },
  {
   "cell_type": "code",
   "execution_count": 9,
   "metadata": {},
   "outputs": [
    {
     "data": {
      "text/plain": [
       "(array([1., 1., 1., 1., 1., 1., 1., 1., 1., 1.]),\n",
       " array([1., 1., 1., 1., 1., 1., 1., 1., 1., 1.]))"
      ]
     },
     "execution_count": 9,
     "metadata": {},
     "output_type": "execute_result"
    }
   ],
   "source": [
    "potential.D[1,1:-1],potential.D[-2,1:-1]"
   ]
  },
  {
   "cell_type": "code",
   "execution_count": 10,
   "metadata": {},
   "outputs": [],
   "source": [
    "def effective_Resistance(pot, dir):\n",
    "    pot_dim = len(pot.f.shape)\n",
    "    R_in_b = [slice(1,-1) if dim!=dir else 1 for dim in range(pot_dim)]\n",
    "    R_out_b = [slice(1,-1) if dim!=dir else -2 for dim in range(pot_dim)]\n",
    "    V_in_b = [slice(1,-1) if dim!=dir else 0 for dim in range(pot_dim)]\n",
    "    V_out_b = [slice(1,-1) if dim!=dir else -1 for dim in range(pot_dim)]\n",
    "    V_diff = np.diff(pot.f,axis=dir)\n",
    "    I_in = np.sum(V_diff[tuple(V_in_b)]/pot.D[tuple(R_in_b)])\n",
    "    I_out = np.sum(V_diff[tuple(V_out_b)]/pot.D[tuple(R_out_b)])\n",
    "    del_V = np.mean(pot.f[tuple(V_out_b)] - pot.f[tuple(V_in_b)])\n",
    "    \n",
    "    R_eff = np.abs(del_V/((I_in+I_out)/2))\n",
    "    print(f\"R_eff = {R_eff}\")"
   ]
  },
  {
   "cell_type": "code",
   "execution_count": 11,
   "metadata": {},
   "outputs": [
    {
     "name": "stdout",
     "output_type": "stream",
     "text": [
      "R_eff = 2.0\n"
     ]
    }
   ],
   "source": [
    "effective_Resistance(potential,dir=0)"
   ]
  },
  {
   "cell_type": "markdown",
   "metadata": {},
   "source": [
    "---\n",
    "## Animated 2D diffusion"
   ]
  },
  {
   "cell_type": "code",
   "execution_count": 12,
   "metadata": {},
   "outputs": [
    {
     "name": "stdout",
     "output_type": "stream",
     "text": [
      "Simulating (ddt=0.011364) : t=0.000000-->1106.295455 - Steady State reached!\n",
      "Animation saved to: data/potSS2D.gif\n",
      "Wall time: 33.9 s\n"
     ]
    }
   ],
   "source": [
    "%%time\n",
    "from importlib import reload\n",
    "reload(dfsn)\n",
    "reload(curr)\n",
    "potential = curr.Resistor(n=(20,20), bc=['open','closed'])\n",
    "f_at_boundary = [0, 1, 0, 0]\n",
    "f_start = 0.5\n",
    "Resistances = (np.random.randint(2,size=potential.n))*10+1\n",
    "potential.initialize(f=f_start, f_at_b=f_at_boundary, R=Resistances)\n",
    "with curr.Animator(simObj=potential, savefile=\"data/potSS2D.gif\", figsize=(9,9)) as plotter:\n",
    "    plotter.start_animation(simulate=\"steadyState\", kwargs={'precision':0.00000001, 'plot_dt_steps':1000})"
   ]
  },
  {
   "cell_type": "code",
   "execution_count": 16,
   "metadata": {},
   "outputs": [],
   "source": [
    "import matplotlib.pyplot as plt\n",
    "fig,ax = plt.subplots()"
   ]
  },
  {
   "cell_type": "code",
   "execution_count": 17,
   "metadata": {},
   "outputs": [],
   "source": [
    "plt.ion()\n",
    "ax.cla()\n",
    "ax.plot(potential.f[1,1:-1]-potential.f[0,1:-1])\n",
    "ax.plot(potential.f[-1,1:-1]-potential.f[-2,1:-1])\n",
    "ax.plot((potential.f[1,1:-1]-potential.f[0,1:-1])*(potential.D[1,1:-1])/2)\n",
    "ax.plot((potential.f[-1,1:-1]-potential.f[-2,1:-1])*(potential.D[-2,1:-1])/2)\n",
    "fig.canvas.draw()\n",
    "plt.pause(0.01)\n",
    "plt.show()"
   ]
  },
  {
   "cell_type": "code",
   "execution_count": 18,
   "metadata": {},
   "outputs": [
    {
     "data": {
      "text/plain": [
       "(0.05987007269643149, 0.05979674982246269)"
      ]
     },
     "execution_count": 18,
     "metadata": {},
     "output_type": "execute_result"
    }
   ],
   "source": [
    "np.sum((potential.f[-1,1:-1]-potential.f[-2,1:-1])/(potential.D[-2,1:-1]))/2,\\\n",
    "np.sum((potential.f[1,1:-1]-potential.f[0,1:-1])/(potential.D[1,1:-1]))/2"
   ]
  },
  {
   "cell_type": "code",
   "execution_count": 19,
   "metadata": {},
   "outputs": [
    {
     "name": "stdout",
     "output_type": "stream",
     "text": [
      "R_eff = 8.356535077565965\n"
     ]
    }
   ],
   "source": [
    "effective_Resistance(potential,dir=0)"
   ]
  },
  {
   "cell_type": "code",
   "execution_count": 20,
   "metadata": {},
   "outputs": [
    {
     "name": "stdout",
     "output_type": "stream",
     "text": [
      "Saved to: data/pot_chkpt.json & data/pot_chkpt.npy\n"
     ]
    }
   ],
   "source": [
    "potential.save_checkpoint(filename=\"data/pot_chkpt\")"
   ]
  },
  {
   "cell_type": "code",
   "execution_count": 21,
   "metadata": {},
   "outputs": [
    {
     "name": "stdout",
     "output_type": "stream",
     "text": [
      "Loaded: data/pot_chkpt.json & data/pot_chkpt.npy\n"
     ]
    }
   ],
   "source": [
    "potential.load_checkpoint(filename=\"data/pot_chkpt\")"
   ]
  },
  {
   "cell_type": "code",
   "execution_count": null,
   "metadata": {},
   "outputs": [],
   "source": []
  }
 ],
 "metadata": {
  "interpreter": {
   "hash": "7b4b4feff2f24a0f0a34464dbe537a36fda679851528fb8735cb41fa49dffb2d"
  },
  "kernelspec": {
   "display_name": "Python 3.7.10 64-bit ('base': conda)",
   "name": "python3"
  },
  "language_info": {
   "codemirror_mode": {
    "name": "ipython",
    "version": 3
   },
   "file_extension": ".py",
   "mimetype": "text/x-python",
   "name": "python",
   "nbconvert_exporter": "python",
   "pygments_lexer": "ipython3",
   "version": "3.7.10"
  },
  "orig_nbformat": 4
 },
 "nbformat": 4,
 "nbformat_minor": 2
}
