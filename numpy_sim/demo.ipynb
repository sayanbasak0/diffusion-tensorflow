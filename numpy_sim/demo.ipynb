{
 "cells": [
  {
   "cell_type": "markdown",
   "metadata": {},
   "source": [
    "# Diffusion Simulator/Animator\n",
    "\n",
    "## Diffusion equation:\n",
    "### The continuity equation:\n",
    "$$\\nabla \\cdot \\vec{j} + \\frac{\\partial \\phi}{\\partial t} = 0$$\n",
    "\n",
    "$\\phi$ : Density of diffusing quantity\n",
    "\n",
    "$\\vec{j}$ : Current density\n",
    "\n",
    "### Fick's first law:\n",
    "$$\\vec{j} = - \\overleftrightarrow{D}[\\phi,\\vec{r}] \\nabla\\phi[\\vec{r},t]$$\n",
    "$\\overleftrightarrow{D}[\\phi,\\vec{r}]$ : Diffusion (tensor) coefficient for density $\\phi$ at position $\\vec{r}$\n",
    "\n",
    "Combining the above equations gives the general diffusion equation:\n",
    "$$\\frac{\\partial\\phi}{\\partial t} = \\nabla \\Big( \\overleftrightarrow{D}[\\phi,\\vec{r}] \\nabla\\phi \\Big) = \\partial^{\\alpha} \\big(D_{\\alpha\\beta}\\partial^{\\beta} \\phi \\big)$$ \n",
    "\n",
    "### The typical diffusion:\n",
    "When D is an scalar constant(isotropic and independent of density and position), the diffusion equation reduces to:\n",
    "$$\\frac{\\partial\\phi}{\\partial t} = D \\nabla^2 \\phi$$ \n",
    "\n",
    "## Current Implementation:\n",
    "$$\\overleftrightarrow{D}[\\phi,\\vec{r}] \\equiv D[\\vec{r}]\\bigg(1-\\frac{B[\\vec{r}]}{|\\nabla \\phi|}\\bigg) $$ \n",
    "The simulation here evolves the diffusing quantity given:\n",
    "1. The boundary conditions,\n",
    "2. The initial distribution,\n",
    "3. The diffusion coefficient, $D[\\vec{r}]$, as function of position,\n",
    "4. Minimum gradient, $B[\\vec{r}]$, required to drive current,\n",
    "\n",
    "\n"
   ]
  },
  {
   "cell_type": "markdown",
   "metadata": {},
   "source": [
    "---\n",
    "## Setup matplotlib backend"
   ]
  },
  {
   "cell_type": "code",
   "execution_count": 1,
   "metadata": {},
   "outputs": [],
   "source": [
    "## embedded interactive plot (e.g.: jupyter notebook)\n",
    "# %matplotlib notebook\n",
    "## embedded interactive plot (e.g.: jupyter notebook)\n",
    "## spawn a separate window (e.g.: jupyter lab)\n",
    "%matplotlib qt\n",
    "## spawn a separate window (e.g.: jupyter lab)"
   ]
  },
  {
   "cell_type": "markdown",
   "metadata": {},
   "source": [
    "---\n",
    "## Import everything required"
   ]
  },
  {
   "cell_type": "code",
   "execution_count": 2,
   "metadata": {},
   "outputs": [],
   "source": [
    "## src.diffusion is dependent on the path\n",
    "import src.diffusion as dfsn\n",
    "## src.diffusion is dependent on the path\n",
    "import numpy as np"
   ]
  },
  {
   "cell_type": "markdown",
   "metadata": {},
   "source": [
    "---\n",
    "## Diffusion for temperature\n",
    "This simulates the heat diffusion with constant boundary temperature."
   ]
  },
  {
   "cell_type": "markdown",
   "metadata": {},
   "source": [
    "1. Instantiate the simulator"
   ]
  },
  {
   "cell_type": "code",
   "execution_count": 3,
   "metadata": {},
   "outputs": [],
   "source": [
    "temperature = dfsn.Simulator(n=(10,10), bc='open')\n",
    "# n : shape of lattice grid\n",
    "# dL : lattice grid spacing\n",
    "# bc : is boundary condition\n",
    " # 'open'/1 : edges can have current (boundary values are fixed)"
   ]
  },
  {
   "cell_type": "markdown",
   "metadata": {},
   "source": [
    "2. Initialize the Diffusion coefficent, Minimum gradient to drive current, and temperatures at the boundaries and the bulk."
   ]
  },
  {
   "cell_type": "code",
   "execution_count": 4,
   "metadata": {},
   "outputs": [],
   "source": [
    "f_start = 0\n",
    "f_at_boundary = [0, 0, 0, np.linspace(0,1,10)]\n",
    "temperature.initialize(f=f_start, f_at_b=f_at_boundary, D=1, B=0)\n",
    "# f : the initial distribution of temperature\n",
    "# f_at_b : the fixed boundary temperatures\n",
    "# D : the Diffusion coefficient\n",
    "# B : the Minimum gradient required to drive current."
   ]
  },
  {
   "cell_type": "markdown",
   "metadata": {},
   "source": [
    "3. Evolve for finite duration"
   ]
  },
  {
   "cell_type": "code",
   "execution_count": 5,
   "metadata": {},
   "outputs": [
    {
     "name": "stdout",
     "output_type": "stream",
     "text": [
      "Simulating (ddt=0.010000) : t=0.000000-->1.000000 - Evolved!\n"
     ]
    }
   ],
   "source": [
    "temperature.evolve(Dt=1,dt=0.01)\n",
    "# Dt : duration of evolution\n",
    "# dt : time step for evolution, this may be reduced to avoid instabilities\n",
    "  # ddt : the time-step subdivision."
   ]
  },
  {
   "cell_type": "markdown",
   "metadata": {},
   "source": [
    "4. Evolve until steady state reached"
   ]
  },
  {
   "cell_type": "code",
   "execution_count": 6,
   "metadata": {},
   "outputs": [
    {
     "name": "stdout",
     "output_type": "stream",
     "text": [
      "Simulating (ddt=0.125000): t=1.000000-->1.750000 - Steady State reached!\n"
     ]
    }
   ],
   "source": [
    "temperature.steadyState(precision=0.01)\n",
    "# precision : change in temperature reduces below this value\n",
    "  # ddt : time-step used for evolution."
   ]
  },
  {
   "cell_type": "markdown",
   "metadata": {},
   "source": [
    "---\n",
    "## Diffusion for particle density\n",
    "This simulates the diffusiion of particle density in a region where there is no flux in or out of the material."
   ]
  },
  {
   "cell_type": "markdown",
   "metadata": {},
   "source": [
    "1. Instantiate the simulator"
   ]
  },
  {
   "cell_type": "code",
   "execution_count": 7,
   "metadata": {},
   "outputs": [],
   "source": [
    "rho = dfsn.Simulator(n=(100,), dL=1, bc=0)\n",
    "# n : shape of lattice grid\n",
    "# dL : lattice grid spacing\n",
    "# bc : is boundary condition\n",
    "  # 'closed'/0 : no current at the edges"
   ]
  },
  {
   "cell_type": "markdown",
   "metadata": {},
   "source": [
    "2. Initialize the Diffusion coefficent, Minimum gradient to drive current, and temperatures at the boundaries and the bulk."
   ]
  },
  {
   "cell_type": "code",
   "execution_count": 8,
   "metadata": {},
   "outputs": [],
   "source": [
    "f_start = np.concatenate([np.zeros(50),np.ones(50)])\n",
    "rho.initialize(f=f_start, D=1, B=0)\n",
    "# f : the initial distribution of rho\n",
    "# D : the Diffusion coefficient\n",
    "# B : the Minimum gradient required to drive current."
   ]
  },
  {
   "cell_type": "markdown",
   "metadata": {},
   "source": [
    "3. Evolve for finite duration"
   ]
  },
  {
   "cell_type": "code",
   "execution_count": 9,
   "metadata": {},
   "outputs": [
    {
     "name": "stdout",
     "output_type": "stream",
     "text": [
      "Simulating (ddt=0.100000) : t=0.000000-->10.000000 - Evolved!\n"
     ]
    }
   ],
   "source": [
    "rho.evolve(Dt=10,dt=0.1)\n",
    "# Dt : duration of evolution\n",
    "# dt : time step for evolution, this may be reduced to avoid instabilities\n",
    "  # ddt : the time-step subdivision."
   ]
  },
  {
   "cell_type": "markdown",
   "metadata": {},
   "source": [
    "4. Evolve until steady state reached"
   ]
  },
  {
   "cell_type": "code",
   "execution_count": 10,
   "metadata": {},
   "outputs": [
    {
     "name": "stdout",
     "output_type": "stream",
     "text": [
      "Simulating (ddt=0.250000): t=10.000000-->580.000000 - Steady State reached!\n"
     ]
    }
   ],
   "source": [
    "rho.steadyState(precision=0.0001)\n",
    "# precision : change in rho reduces below this value\n",
    "  # ddt : time-step used for evolution."
   ]
  },
  {
   "cell_type": "markdown",
   "metadata": {},
   "source": [
    "---\n",
    "## Checkpoint"
   ]
  },
  {
   "cell_type": "code",
   "execution_count": 11,
   "metadata": {},
   "outputs": [
    {
     "name": "stdout",
     "output_type": "stream",
     "text": [
      "Saved to: data/temp_chkpt.json & data/temp_chkpt.npy\n"
     ]
    }
   ],
   "source": [
    "temperature.save_checkpoint(filename=\"data/temp_chkpt\")\n",
    "# filename: with path without extension\n",
    "  # 2 files generated filename+\".json\" and filename+\".npy\""
   ]
  },
  {
   "cell_type": "code",
   "execution_count": 12,
   "metadata": {},
   "outputs": [
    {
     "name": "stdout",
     "output_type": "stream",
     "text": [
      "Saved to: data/rho_chkpt.json & data/rho_chkpt.npy\n"
     ]
    }
   ],
   "source": [
    "rho.save_checkpoint(filename=\"data/rho_chkpt\")\n",
    "# filename: with path without extension\n",
    "  # 2 files generated filename+\".json\" and filename+\".npy\""
   ]
  },
  {
   "cell_type": "markdown",
   "metadata": {},
   "source": [
    "### Load Checkpoint"
   ]
  },
  {
   "cell_type": "code",
   "execution_count": 13,
   "metadata": {},
   "outputs": [
    {
     "name": "stdout",
     "output_type": "stream",
     "text": [
      "Loaded: data/temp_chkpt.json & data/temp_chkpt.npy\n"
     ]
    }
   ],
   "source": [
    "tempck = dfsn.Simulator()\n",
    "tempck.load_checkpoint(\"data/temp_chkpt\")\n",
    "# filename: with path without extension\n",
    "  # Look for 2 files - filename+\".json\" and filename+\".npy\""
   ]
  },
  {
   "cell_type": "code",
   "execution_count": 14,
   "metadata": {},
   "outputs": [
    {
     "name": "stdout",
     "output_type": "stream",
     "text": [
      "Loaded: data/rho_chkpt.json & data/rho_chkpt.npy\n"
     ]
    }
   ],
   "source": [
    "rhock = dfsn.Simulator()\n",
    "rhock.load_checkpoint(\"data/rho_chkpt\")\n",
    "# filename: with path without extension\n",
    "  # Look for 2 files - filename+\".json\" and filename+\".npy\""
   ]
  },
  {
   "cell_type": "markdown",
   "metadata": {},
   "source": [
    "### Check integrity"
   ]
  },
  {
   "cell_type": "code",
   "execution_count": 15,
   "metadata": {},
   "outputs": [
    {
     "name": "stdout",
     "output_type": "stream",
     "text": [
      "dL: OK\n",
      "n: OK\n",
      "t: OK\n",
      "bc: OK\n",
      "f: OK\n",
      "D: OK\n",
      "B: OK\n"
     ]
    }
   ],
   "source": [
    "tempckdata = vars(tempck)\n",
    "tempdata = vars(temperature)\n",
    "for key in [\"dL\",\"n\",\"t\",\"bc\",\"f\",\"D\",\"B\"]:\n",
    "    if np.all(tempckdata[key]==tempdata[key]):\n",
    "        print(f\"{key}: OK\")\n",
    "    else:\n",
    "        print(f\"{key}: Nope\")"
   ]
  },
  {
   "cell_type": "code",
   "execution_count": 16,
   "metadata": {},
   "outputs": [
    {
     "name": "stdout",
     "output_type": "stream",
     "text": [
      "dL: OK\n",
      "n: OK\n",
      "t: OK\n",
      "bc: OK\n",
      "f: OK\n",
      "D: OK\n",
      "B: OK\n"
     ]
    }
   ],
   "source": [
    "rhockdata = vars(rhock)\n",
    "rhodata = vars(rho)\n",
    "for key in [\"dL\",\"n\",\"t\",\"bc\",\"f\",\"D\",\"B\"]:\n",
    "    if np.all(rhockdata[key]==rhodata[key]):\n",
    "        print(f\"{key}: OK\")\n",
    "    else:\n",
    "        print(f\"{key}: Nope\")"
   ]
  },
  {
   "cell_type": "markdown",
   "metadata": {},
   "source": [
    "---\n",
    "## Animated 1D diffusion"
   ]
  },
  {
   "cell_type": "markdown",
   "metadata": {},
   "source": [
    "### Evolve for finite duration"
   ]
  },
  {
   "cell_type": "code",
   "execution_count": 39,
   "metadata": {},
   "outputs": [
    {
     "name": "stdout",
     "output_type": "stream",
     "text": [
      "Simulating (ddt=0.010000) : t=0.000000-->400.000000 - Evolved!\n",
      "Animation saved to: data/rhoEvo1D.mp4\n"
     ]
    }
   ],
   "source": [
    "rho = dfsn.Simulator(n=(100,), bc=0)\n",
    "f_start = np.concatenate([np.zeros(50),np.ones(50)])\n",
    "rho.initialize(f=f_start, D=1, B=0)\n",
    "# Animator must be called with a Simulator object\n",
    "# takes arguments simObj, savefile, figsizeX, figsizeY, display\n",
    "# simObj must be an object of Simulator Class\n",
    "with dfsn.Animator(simObj=rho, savefile=\"data/rhoEvo1D.mp4\", force_initial_size=False) as plotter:\n",
    "    plotter.start_animation(simulate=\"evolve\", kwargs={'Dt':400,'dt':0.01, 'plot_realtime_interval':0.1}, display=True)\n",
    "    # Do as many \n",
    "    # start_animation takes simulate \"<function_name>\" of Simulator class\n",
    "    # kwargs takes in a dictionary of arguments to be passed to the \"evolve\" function\n",
    "    # here # kwargs = {'Dt':400,'dt':0.01, plot_realtime_interval=0.1} updates plot every 0.1seconds (default)"
   ]
  },
  {
   "cell_type": "markdown",
   "metadata": {},
   "source": [
    "### Evolve to steady state"
   ]
  },
  {
   "cell_type": "code",
   "execution_count": 36,
   "metadata": {},
   "outputs": [
    {
     "name": "stdout",
     "output_type": "stream",
     "text": [
      "Simulating (ddt=0.250000) : t=0.000000-->1517.500000 - Steady State reached!\n",
      "Animation saved to: data/rhoSS1D_temp.mp4\n"
     ]
    }
   ],
   "source": [
    "rho = dfsn.Simulator(n=(100,), bc=0)\n",
    "f_start = np.concatenate([np.zeros(50),np.ones(50)])\n",
    "rho.initialize(f=f_start, D=1, B=0)\n",
    "# Animator must be called with a Simulator object\n",
    "# takes arguments simObj, savefile, figsizeX, figsizeY, display\n",
    "# simObj must be an object of Simulator Class\n",
    "with dfsn.Animator(simObj=rho, savefile=\"data/rhoSS1D.mp4\") as plotter:\n",
    "    plotter.start_animation(simulate=\"steadyState\", kwargs={'precision':0.001, 'plot_dt_steps':100})\n",
    "    # start_animation takes simulate \"<function_name>\" of Simulator class\n",
    "    # kwargs takes in a dictionary of arguments to be passed to the \"steadyState\" function\n",
    "    # here # kwargs = {'precision':0.001, plot_dt_steps=10} plot updates plot every 10 x dt-steps "
   ]
  },
  {
   "cell_type": "markdown",
   "metadata": {},
   "source": [
    "---\n",
    "## Animated 2D diffusion"
   ]
  },
  {
   "cell_type": "markdown",
   "metadata": {},
   "source": [
    "### Evolve for finite duration"
   ]
  },
  {
   "cell_type": "code",
   "execution_count": 9,
   "metadata": {},
   "outputs": [
    {
     "name": "stdout",
     "output_type": "stream",
     "text": [
      "Simulating (ddt=0.000100) : t=0.000000-->5.000000 - Evolved!\n",
      "Animation saved to: data/rhoEvo2Dnew.gif\n"
     ]
    }
   ],
   "source": [
    "rho = dfsn.Simulator(n=(12,8),bc=0)\n",
    "xx,yy = np.meshgrid(np.linspace(-2,2,8),np.linspace(-2,2,12))\n",
    "f_start = np.exp(-(xx**2+yy**2)/2)\n",
    "rho.initialize(f=f_start, D=1, B=0)\n",
    "with dfsn.Animator(simObj=rho, savefile=\"data/rhoEvo2D.gif\") as plotter:\n",
    "    plotter.start_animation(simulate=\"evolve\", kwargs={'Dt':5,'dt':0.0001, 'plot_realtime_interval':0.1})"
   ]
  },
  {
   "cell_type": "markdown",
   "metadata": {},
   "source": [
    "### Evolve to steady state"
   ]
  },
  {
   "cell_type": "code",
   "execution_count": 30,
   "metadata": {},
   "outputs": [
    {
     "name": "stdout",
     "output_type": "stream",
     "text": [
      "Simulating (ddt=0.125000) : t=0.000000-->9.250000 - Steady State reached!\n",
      "Animation saved to: data/rhoSS2D.gif\n"
     ]
    }
   ],
   "source": [
    "rho = dfsn.Simulator(n=(12,8),bc=0)\n",
    "xx,yy = np.meshgrid(np.linspace(-2,2,8),np.linspace(-2,2,12))\n",
    "f_start = np.exp(-(xx**2+yy**2)/2)\n",
    "rho.initialize(f=f_start, D=1, B=0)\n",
    "with dfsn.Animator(simObj=rho, savefile=\"data/rhoSS2D.gif\", figsize=(9,6)) as plotter:\n",
    "    plotter.start_animation(simulate=\"steadyState\", kwargs={'precision':0.0001, 'plot_dt_steps':1})"
   ]
  },
  {
   "cell_type": "markdown",
   "metadata": {},
   "source": [
    "---\n",
    "## Animated 3D diffusion"
   ]
  },
  {
   "cell_type": "markdown",
   "metadata": {},
   "source": [
    "### Evolve for finite duration"
   ]
  },
  {
   "cell_type": "code",
   "execution_count": 28,
   "metadata": {},
   "outputs": [
    {
     "name": "stdout",
     "output_type": "stream",
     "text": [
      "Simulating (ddt=0.000010) : t=0.000000-->0.499990 - Evolved!\n",
      "Animation saved to: data/rhoEvo3D.gif\n"
     ]
    }
   ],
   "source": [
    "rho = dfsn.Simulator(n=(5,5,5),bc=0)\n",
    "xxx,yyy,zzz = np.meshgrid(np.linspace(-2,2,5),np.linspace(-2,2,5),np.linspace(-2,2,5))\n",
    "f_start = np.exp(-(xxx**2+yyy**2+zzz**2)/2)\n",
    "rho.initialize(f=f_start, D=1, B=0)\n",
    "with dfsn.Animator(simObj=rho, savefile=\"data/rhoEvo3D.gif\") as plotter:\n",
    "    plotter.start_animation(simulate=\"evolve\", kwargs={'Dt':0.5,'dt':0.00001, 'plot_realtime_interval':0.1})"
   ]
  },
  {
   "cell_type": "markdown",
   "metadata": {},
   "source": [
    "### Evolve to steady state"
   ]
  },
  {
   "cell_type": "code",
   "execution_count": 29,
   "metadata": {},
   "outputs": [
    {
     "name": "stdout",
     "output_type": "stream",
     "text": [
      "Simulating (ddt=0.083333) : t=0.000000-->2.250000 - Steady State reached!\n",
      "Animation saved to: data/rhoSS3D.gif\n"
     ]
    }
   ],
   "source": [
    "rho = dfsn.Simulator(n=(5,5,5),bc=0)\n",
    "xxx,yyy,zzz = np.meshgrid(np.linspace(-2,2,5),np.linspace(-2,2,5),np.linspace(-2,2,5))\n",
    "f_start = np.exp(-(xxx**2+yyy**2+zzz**2)/2)\n",
    "rho.initialize(f=f_start, D=1, B=0)\n",
    "with dfsn.Animator(simObj=rho, savefile=\"data/rhoSS3D.gif\") as plotter:\n",
    "    plotter.start_animation(simulate=\"steadyState\", kwargs={'precision':0.0001, 'plot_dt_steps': 1})"
   ]
  },
  {
   "cell_type": "markdown",
   "metadata": {},
   "source": [
    "# More help:"
   ]
  },
  {
   "cell_type": "code",
   "execution_count": null,
   "metadata": {},
   "outputs": [],
   "source": [
    "help(dfsn)\n",
    "\n",
    "## to reload changes in the imported library\n",
    "from importlib import reload\n",
    "reload(dfsn)"
   ]
  }
 ],
 "metadata": {
  "interpreter": {
   "hash": "7b4b4feff2f24a0f0a34464dbe537a36fda679851528fb8735cb41fa49dffb2d"
  },
  "kernelspec": {
   "display_name": "Python 3.7.10 64-bit ('base': conda)",
   "name": "python3"
  },
  "language_info": {
   "codemirror_mode": {
    "name": "ipython",
    "version": 3
   },
   "file_extension": ".py",
   "mimetype": "text/x-python",
   "name": "python",
   "nbconvert_exporter": "python",
   "pygments_lexer": "ipython3",
   "version": "3.7.10"
  },
  "orig_nbformat": 4
 },
 "nbformat": 4,
 "nbformat_minor": 2
}
